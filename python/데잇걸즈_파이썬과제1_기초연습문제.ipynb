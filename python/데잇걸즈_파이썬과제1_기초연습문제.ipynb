{
  "nbformat": 4,
  "nbformat_minor": 0,
  "metadata": {
    "colab": {
      "name": "데잇걸즈_파이썬과제1_기초연습문제.ipynb",
      "provenance": [],
      "authorship_tag": "ABX9TyMAQaTmKzC5td3HcZ4+5ou+",
      "include_colab_link": true
    },
    "kernelspec": {
      "name": "python3",
      "display_name": "Python 3"
    },
    "language_info": {
      "name": "python"
    }
  },
  "cells": [
    {
      "cell_type": "markdown",
      "metadata": {
        "id": "view-in-github",
        "colab_type": "text"
      },
      "source": [
        "<a href=\"https://colab.research.google.com/github/Eunjung-Cho/dataitgirls/blob/main/python/%EB%8D%B0%EC%9E%87%EA%B1%B8%EC%A6%88_%ED%8C%8C%EC%9D%B4%EC%8D%AC%EA%B3%BC%EC%A0%9C1_%EA%B8%B0%EC%B4%88%EC%97%B0%EC%8A%B5%EB%AC%B8%EC%A0%9C.ipynb\" target=\"_parent\"><img src=\"https://colab.research.google.com/assets/colab-badge.svg\" alt=\"Open In Colab\"/></a>"
      ]
    },
    {
      "cell_type": "markdown",
      "metadata": {
        "id": "bGZAr7L91axR"
      },
      "source": [
        "# 파이썬 강의 복습 1 \n",
        "- 데잇걸즈 파이썬 강의 0703 "
      ]
    },
    {
      "cell_type": "markdown",
      "metadata": {
        "id": "zJJyNfjKnp2y"
      },
      "source": [
        "## 1\n",
        "파이썬 REPL상에서 a=10 -> b=a -> a=20 하고 print(b)를 실행하면 출력 값은?  \n",
        "\n",
        "-> a에 10이 먼저 할당 -> b에 10이 할당 -> a에 다시 20할당 즉 print(b)는 10"
      ]
    },
    {
      "cell_type": "code",
      "metadata": {
        "id": "DRyrYO1InWp2",
        "colab": {
          "base_uri": "https://localhost:8080/"
        },
        "outputId": "2c46a5a7-b983-4e65-a929-5a6960748104"
      },
      "source": [
        "a=10\n",
        "b=a\n",
        "a=20\n",
        "print(b)"
      ],
      "execution_count": 1,
      "outputs": [
        {
          "output_type": "stream",
          "text": [
            "10\n"
          ],
          "name": "stdout"
        }
      ]
    },
    {
      "cell_type": "markdown",
      "metadata": {
        "id": "Nn4Ks7q6noPC"
      },
      "source": [
        "## 2 \n",
        "as=10이라고 입력하면 무슨 일이 일어나는가? 왜 그런가?  \n",
        "-> syntaxerror가 난다. as는 예약어 이기 때문에 예약어는 변수로 쓸 수 없다."
      ]
    },
    {
      "cell_type": "code",
      "metadata": {
        "colab": {
          "base_uri": "https://localhost:8080/",
          "height": 134
        },
        "id": "0lK0f6nmnlaA",
        "outputId": "328f27fd-dc68-4e9c-bd71-682201501d99"
      },
      "source": [
        "as=10"
      ],
      "execution_count": 2,
      "outputs": [
        {
          "output_type": "error",
          "ename": "SyntaxError",
          "evalue": "ignored",
          "traceback": [
            "\u001b[0;36m  File \u001b[0;32m\"<ipython-input-2-127578cd032f>\"\u001b[0;36m, line \u001b[0;32m1\u001b[0m\n\u001b[0;31m    as=10\u001b[0m\n\u001b[0m     ^\u001b[0m\n\u001b[0;31mSyntaxError\u001b[0m\u001b[0;31m:\u001b[0m invalid syntax\n"
          ]
        }
      ]
    },
    {
      "cell_type": "markdown",
      "metadata": {
        "id": "LGn9SlH4oR01"
      },
      "source": [
        "## 3\n",
        "번수 a,b,c에 a=3, b=3.0, c=\"3\"이라고 값을 할당한 경우 각 변수는 어떤 타입인가?  \n",
        "-> a는 정수, b는 실수, c는 문자 타입"
      ]
    },
    {
      "cell_type": "code",
      "metadata": {
        "colab": {
          "base_uri": "https://localhost:8080/"
        },
        "id": "SDAzQBhToRki",
        "outputId": "e6561d8c-b26c-4d87-a5ca-c738dea9e356"
      },
      "source": [
        "a=3\n",
        "b=3.0\n",
        "c=\"3\"\n",
        "type(a),type(b),type(c)"
      ],
      "execution_count": 3,
      "outputs": [
        {
          "output_type": "execute_result",
          "data": {
            "text/plain": [
              "(int, float, str)"
            ]
          },
          "metadata": {
            "tags": []
          },
          "execution_count": 3
        }
      ]
    },
    {
      "cell_type": "markdown",
      "metadata": {
        "id": "ViqU1Ec1opI3"
      },
      "source": [
        "## 4\n",
        "a=4, b=4.0 으로 값을 할당한 경우 a==b의 결과 값은 무엇인가?   \n",
        "-> True 이다. \n"
      ]
    },
    {
      "cell_type": "code",
      "metadata": {
        "colab": {
          "base_uri": "https://localhost:8080/"
        },
        "id": "4wR_k5_sovce",
        "outputId": "6f83a28b-143c-4a9b-abf4-490e008275d7"
      },
      "source": [
        "a=4\n",
        "b=4.0\n",
        "a==b"
      ],
      "execution_count": 4,
      "outputs": [
        {
          "output_type": "execute_result",
          "data": {
            "text/plain": [
              "True"
            ]
          },
          "metadata": {
            "tags": []
          },
          "execution_count": 4
        }
      ]
    },
    {
      "cell_type": "markdown",
      "metadata": {
        "id": "5BMiz62ao2Fk"
      },
      "source": [
        "## 5\n",
        "a=5, b=5.0 을 한줄로 입력하는 코드는 무엇인가?\n"
      ]
    },
    {
      "cell_type": "code",
      "metadata": {
        "colab": {
          "base_uri": "https://localhost:8080/"
        },
        "id": "swu1HZC0pVZA",
        "outputId": "9ead76a9-a3f2-4684-887d-5e0de1336999"
      },
      "source": [
        "a=5\n",
        "print(a, float(a))"
      ],
      "execution_count": 5,
      "outputs": [
        {
          "output_type": "stream",
          "text": [
            "5 5.0\n"
          ],
          "name": "stdout"
        }
      ]
    },
    {
      "cell_type": "markdown",
      "metadata": {
        "id": "kixcZEfypnpz"
      },
      "source": [
        "## 6\n",
        "num_list=[1,2,3,4,5]와 같은 리스트가 있을때, num_list[-4]의 값은?  \n",
        "-> 뒤에서 4번째니까 2이다. "
      ]
    },
    {
      "cell_type": "code",
      "metadata": {
        "colab": {
          "base_uri": "https://localhost:8080/"
        },
        "id": "QBuCIikEpxRp",
        "outputId": "a66ac575-4611-418f-bba1-7b86dad70854"
      },
      "source": [
        "num_list=[1,2,3,4,5]\n",
        "num_list[-4]"
      ],
      "execution_count": 6,
      "outputs": [
        {
          "output_type": "execute_result",
          "data": {
            "text/plain": [
              "2"
            ]
          },
          "metadata": {
            "tags": []
          },
          "execution_count": 6
        }
      ]
    },
    {
      "cell_type": "markdown",
      "metadata": {
        "id": "YIyV_tBCp2s6"
      },
      "source": [
        "## 7\n",
        "num_list=[5,4,3,2,1]와 같은 리스트가 있을 때, num_list[-3]의 값은 무엇인가? 그 이유는?  \n",
        "-> 뒤에서 3번째이므로 3이다."
      ]
    },
    {
      "cell_type": "code",
      "metadata": {
        "colab": {
          "base_uri": "https://localhost:8080/"
        },
        "id": "a6gMaXjgqEfV",
        "outputId": "85fcca3b-20b6-4150-ad9b-a04c2fe9b25c"
      },
      "source": [
        "num_list=[5,4,3,2,1]\n",
        "num_list[-3]"
      ],
      "execution_count": 7,
      "outputs": [
        {
          "output_type": "execute_result",
          "data": {
            "text/plain": [
              "3"
            ]
          },
          "metadata": {
            "tags": []
          },
          "execution_count": 7
        }
      ]
    },
    {
      "cell_type": "markdown",
      "metadata": {
        "id": "SdbdnBEgqHjD"
      },
      "source": [
        "## 8\n",
        "a=[1,2], b=[\"a\",\"b\"]와 같은 두 개의 리스트가 있을 때, \n",
        "c=([\"a\",\"b\"],[1,2])와 같은 형태는 어떻게 만드는가? 그리고 c는 어떤 타입인가?   \n",
        "-> c=(b,a)로 만든다. 튜플 타입이다. "
      ]
    },
    {
      "cell_type": "code",
      "metadata": {
        "id": "PTSFCCrDqKHv",
        "colab": {
          "base_uri": "https://localhost:8080/"
        },
        "outputId": "a290559e-0f57-4e1c-a460-dcf69577029f"
      },
      "source": [
        "a=[1,2]\n",
        "b=[\"a\",\"b\"]\n",
        "c=(b,a)\n",
        "print(c)\n",
        "print(type(c))"
      ],
      "execution_count": 10,
      "outputs": [
        {
          "output_type": "stream",
          "text": [
            "(['a', 'b'], [1, 2])\n",
            "<class 'tuple'>\n"
          ],
          "name": "stdout"
        }
      ]
    },
    {
      "cell_type": "markdown",
      "metadata": {
        "id": "VOfP7MndqqGF"
      },
      "source": [
        "## 9\n",
        "a=[1,2,3,...,100]와 같이 1부터 100까지의 정수가 모두 들어있는 리스트 a는 어떻게 만들 것인가?  \n",
        "조건1. 하나하나 입력하지 않는다.  \n",
        "조건2. for loop를 사용하지 않는다.\n",
        "\n",
        "-> range함수를 사용한다. 이때 range(1,101)로 써줘야 1부터 시작해서 101-1 즉 100까지의 숫자를 생성한다. 그리고 list로 한번 감싸준다. "
      ]
    },
    {
      "cell_type": "code",
      "metadata": {
        "colab": {
          "base_uri": "https://localhost:8080/"
        },
        "id": "ijR8uasUqsTK",
        "outputId": "d72a918d-cc55-4026-b836-5b82b536ed6a"
      },
      "source": [
        "a=list(range(1,101))\n",
        "print(a)"
      ],
      "execution_count": 13,
      "outputs": [
        {
          "output_type": "stream",
          "text": [
            "[1, 2, 3, 4, 5, 6, 7, 8, 9, 10, 11, 12, 13, 14, 15, 16, 17, 18, 19, 20, 21, 22, 23, 24, 25, 26, 27, 28, 29, 30, 31, 32, 33, 34, 35, 36, 37, 38, 39, 40, 41, 42, 43, 44, 45, 46, 47, 48, 49, 50, 51, 52, 53, 54, 55, 56, 57, 58, 59, 60, 61, 62, 63, 64, 65, 66, 67, 68, 69, 70, 71, 72, 73, 74, 75, 76, 77, 78, 79, 80, 81, 82, 83, 84, 85, 86, 87, 88, 89, 90, 91, 92, 93, 94, 95, 96, 97, 98, 99, 100]\n"
          ],
          "name": "stdout"
        }
      ]
    },
    {
      "cell_type": "markdown",
      "metadata": {
        "id": "ZZuEbLYurXvG"
      },
      "source": [
        "## 10\n",
        "def x(input):\n",
        "  print(f\"Hello {input}\")\n",
        "형태의 함수를 만들고 x(\"output\")의 형태로 해당 함수를 실행한 경우, 매개변수의 명칭은 무엇이고 전달인자의 값은 무엇인가?   \n",
        "-> 매개변수의 명칭은 input이다. 전달인자의 값은 output이라는 글자이다. "
      ]
    },
    {
      "cell_type": "code",
      "metadata": {
        "colab": {
          "base_uri": "https://localhost:8080/"
        },
        "id": "7vDDCyZ4raOw",
        "outputId": "075ef796-f7c6-4c59-f101-9c33a05cc879"
      },
      "source": [
        "def x(input):\n",
        "  print(f\"Hello {input}\")\n",
        "\n",
        "x(\"output\")"
      ],
      "execution_count": 15,
      "outputs": [
        {
          "output_type": "stream",
          "text": [
            "Hello output\n"
          ],
          "name": "stdout"
        }
      ]
    }
  ]
}